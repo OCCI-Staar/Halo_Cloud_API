{
  "nbformat": 4,
  "nbformat_minor": 0,
  "metadata": {
    "colab": {
      "provenance": [],
      "authorship_tag": "ABX9TyON9cN17uZyBEbEHzjRYM1a",
      "include_colab_link": true
    },
    "kernelspec": {
      "name": "python3",
      "display_name": "Python 3"
    },
    "language_info": {
      "name": "python"
    }
  },
  "cells": [
    {
      "cell_type": "markdown",
      "metadata": {
        "id": "view-in-github",
        "colab_type": "text"
      },
      "source": [
        "<a href=\"https://colab.research.google.com/github/OCCI-Staar/Halo_Cloud_API/blob/main/Halo_Cloud_API.ipynb\" target=\"_parent\"><img src=\"https://colab.research.google.com/assets/colab-badge.svg\" alt=\"Open In Colab\"/></a>"
      ]
    },
    {
      "cell_type": "markdown",
      "source": [
        "# Imports"
      ],
      "metadata": {
        "id": "Hy0--jQfe1J9"
      }
    },
    {
      "cell_type": "code",
      "source": [
        "import json\n",
        "import requests"
      ],
      "metadata": {
        "id": "kDRURVh-e24v"
      },
      "execution_count": 28,
      "outputs": []
    },
    {
      "cell_type": "markdown",
      "source": [
        "# Static Variables"
      ],
      "metadata": {
        "id": "RALL_kKCemkF"
      }
    },
    {
      "cell_type": "code",
      "source": [
        "username = 'admin'\n",
        "password = 'qc3#:2Vi64QU'\n",
        "environment_name = 'Olds College Canada'\n",
        "ip = '10.25.110.10'\n",
        "\n",
        "# API Routes\n",
        "base_url = 'https://api.elsight-cloud.com/api/v1'\n",
        "login_endpoint = '/auth/login'\n",
        "\n",
        "# Elsight Cloud API - From Url List\n",
        "\n",
        "#Full list below but I connected the two main ones\n",
        "#https://docs.elsight-cloud.com/cloud/master/"
      ],
      "metadata": {
        "id": "7fCJ5S7IepK0"
      },
      "execution_count": 16,
      "outputs": []
    },
    {
      "cell_type": "markdown",
      "source": [
        "# Login Cloud"
      ],
      "metadata": {
        "id": "ETvRdwSyfBDL"
      }
    },
    {
      "cell_type": "code",
      "source": [
        "# Define your login endpoint\n",
        "url_login = base_url + login_endpoint\n",
        "print('login access', url_login)\n",
        "\n",
        "def login(username, password, environment_name, url_login):\n",
        "    headers = {\n",
        "        'Accept': 'application/json',\n",
        "        'Content-Type': 'application/json'\n",
        "    }\n",
        "    payload = {\n",
        "        'environment_name': environment_name,\n",
        "        'username': username,\n",
        "        'password': password\n",
        "    }\n",
        "\n",
        "    try:\n",
        "        response = requests.post(url_login, headers=headers, data=json.dumps(payload))\n",
        "        # Get session token or any other necessary data from response\n",
        "        data = response.json()\n",
        "        #print(\"Login response data:\", data)\n",
        "\n",
        "        session_cookie = data['token']['access_token']\n",
        "        device = data['entities']['devices'][1]\n",
        "        print(\"device\", device)\n",
        "        environment_id = data['environment_id']\n",
        "        print(\"environment_id\", environment_id)\n",
        "        print(\"session_cookie\", session_cookie)\n",
        "        return session_cookie, device, environment_id\n",
        "\n",
        "    except requests.exceptions.HTTPError as http_err:\n",
        "        print(f\"HTTP error occurred: {http_err}\")\n",
        "    except requests.exceptions.RequestException as req_err:\n",
        "        print(f\"Request error occurred: {req_err}\")\n",
        "    except Exception as err:\n",
        "        print(f\"Error occurred: {err}\")\n",
        "\n",
        "try:\n",
        "    session_cookie, device, environment_id = login(username, password, environment_name, url_login)\n",
        "except Exception as e:\n",
        "    print(\"Error:\", e)\n"
      ],
      "metadata": {
        "colab": {
          "base_uri": "https://localhost:8080/"
        },
        "id": "stzXA6mAfDpi",
        "outputId": "265d20bf-c076-4c2c-87d8-f7bad3564b24"
      },
      "execution_count": 21,
      "outputs": [
        {
          "output_type": "stream",
          "name": "stdout",
          "text": [
            "login access https://api.elsight-cloud.com/api/v1/auth/login\n",
            "device 667a5fec42471f6f60aa879e\n",
            "environment_id 667a5f123c0ba131b4299e2a\n",
            "session_cookie 3b47251b-a8f2-4352-950c-05f7b2c8447b\n"
          ]
        }
      ]
    },
    {
      "cell_type": "markdown",
      "source": [
        "# Device status"
      ],
      "metadata": {
        "id": "vYQ8c7Pcrz-Y"
      }
    },
    {
      "cell_type": "code",
      "source": [
        "system_info_url = base_url  + '/config/' + environment_id + '/devices/device_status?devices[]=' + device\n",
        "#print('system status access', system_info_url)\n",
        "#print('cookie', session_cookie)\n",
        "\n",
        "def system(system_info_url, session_cookie):\n",
        "    headers = {\n",
        "        'Accept': 'application/json',\n",
        "        'Content-Type': 'application/json',\n",
        "        'Authorization': f'Bearer {session_cookie}'\n",
        "        }\n",
        "    try:\n",
        "        response = requests.get(system_info_url, headers=headers)\n",
        "        response.raise_for_status()\n",
        "        data = response.json()\n",
        "        halo_system_report = data[device]['halo_system_report']\n",
        "        print ('halo_system_report', halo_system_report)\n",
        "        halo_data_links_info = data[device]['halo_data_links_info']\n",
        "        print ('halo_data_links_info', halo_data_links_info)\n",
        "\n",
        "\n",
        "    except requests.exceptions.HTTPError as http_err:\n",
        "        print(f\"HTTP error occurred: {http_err}\")\n",
        "    except requests.exceptions.RequestException as req_err:\n",
        "        print(f\"Request error occurred: {req_err}\")\n",
        "    except Exception as err:\n",
        "        print(f\"Error occurred: {err}\")\n",
        "\n",
        "try:\n",
        "    system_status_response = system(system_info_url, session_cookie)\n",
        "except Exception as e:\n",
        "    print(\"Error:\", e)\n",
        "#https://docs.elsight-cloud.com/cloud/master/config/resources/devices.html#devices-status"
      ],
      "metadata": {
        "colab": {
          "base_uri": "https://localhost:8080/"
        },
        "id": "ygSpuM72r2XI",
        "outputId": "159a6f55-de55-499c-cd4d-77e34f3633c8"
      },
      "execution_count": 38,
      "outputs": [
        {
          "output_type": "stream",
          "name": "stdout",
          "text": [
            "halo_system_report {'version': {'base': '0.15.2-11.7-aarch64', 'core': '2.24.1.1-11.9', 'web': '1.28.0.1-11.9', 'official': '11.9.1.1'}, 'system_stats': {'avg_cpu_usage': 19.0, 'max_cpu_usage': 24.0, 'ram_used': 705.0, 'ram_usage': 35.0}, 'uptime': 520052.0, 'boot_counter': 156, 'total_uptime': 2032663.0, 'top_processes': [], 'temperature': 42.0, 'time_info': {'type': 1, 'time': 1722975597048}, 'disk_space': {'logs': {'used': 90.0, 'usage': 9.0}, 'config': {'used': 111.0, 'usage': 11.0}}, 'cellular_modems_count': {'connected': 4, 'expected': 3}, 'id': '66b2856d3a443bf487557776'}\n",
            "halo_data_links_info {'time_info': {'type': 1, 'time': 1722975621686}, 'nics_info': {'wifi': [{'nic_id': 'wlan0', 'is_built_in': True, 'port_number': 1, 'data_links_status': [], 'ssid': '', 'signal': -71.0, 'non_data_links': ['20.0.2.2'], 'status': 1, 'state': 1, 'alias': 'OldsCollegeWiFi'}], 'cellular': [{'nic_id': 'ttyUSB19', 'is_built_in': True, 'port_number': 1, 'data_links_status': [], 'name': None, 'network_type': -1, 'rssi': 0, 'iccid': 'N/A', 'eid': None, 'imsi': 'N/A', 'imei': '359918921146098', 'status': 5, 'alias': 'SIM 1'}, {'nic_id': 'ttyUSB6', 'is_built_in': True, 'port_number': 2, 'data_links_status': [{'ip': '192.168.225.5'}], 'name': 'Telus Mobility', 'network_type': 7, 'rssi': -79, 'net_stats': {'download': {'min': 7.0, 'max': 40.0, 'avg': 15.8}, 'upload': {'min': 5.0, 'max': 17.0, 'avg': 9.533333333333333}}, 'iccid': '8912230102191586159', 'eid': None, 'imsi': '302220321858615', 'imei': '353338974174770', 'status': 8, 'activity': 1, 'signal_to_noise': -15.0, 'alias': 'SIM 2'}, {'nic_id': 'ttyUSB14', 'is_built_in': True, 'port_number': 3, 'data_links_status': [], 'name': None, 'network_type': -1, 'rssi': 0, 'iccid': 'N/A', 'eid': None, 'imsi': 'N/A', 'imei': '359918921143574', 'status': 5, 'alias': 'SIM 3'}, {'nic_id': 'ttyUSB9', 'is_built_in': True, 'port_number': 4, 'data_links_status': [], 'name': None, 'network_type': -1, 'rssi': 0, 'iccid': 'N/A', 'eid': None, 'imsi': 'N/A', 'imei': '353338974181940', 'status': 5, 'alias': 'SIM 4'}], 'eth': [{'nic_id': 'eth0', 'is_built_in': True, 'port_number': 1, 'data_links_status': [], 'is_cable_plugged': False, 'non_data_links': ['20.0.0.2'], 'status': 4, 'used_for_data': False, 'alias': 'Eth 1'}, {'nic_id': 'eth1', 'is_built_in': True, 'port_number': 2, 'data_links_status': [], 'is_cable_plugged': False, 'net_stats': {'download': {'min': 0.0, 'max': 0.0, 'avg': 0.0}, 'upload': {'min': 0.0, 'max': 0.0, 'avg': 0.0}}, 'non_data_links': ['20.0.1.2'], 'status': 4, 'activity': 0, 'used_for_data': True, 'alias': 'Eth 2'}], 'vlan': [], 'vpn': [{'nic_id': 'tun0', 'link': '10.25.110.10'}]}, 'satcom_modems_info': [], 'id': '66b28586441df8e37984c8b2'}\n"
          ]
        }
      ]
    },
    {
      "cell_type": "markdown",
      "source": [
        "# Devices data links Information"
      ],
      "metadata": {
        "id": "0v1jhpCtqt4r"
      }
    },
    {
      "cell_type": "code",
      "source": [
        "# Define your login endpoint\n",
        "url_links = system_info_url + '/data_links_info?devices[]=' + device\n",
        "#print('location access', url_links)\n",
        "#print('session_cookie', session_cookie)\n",
        "\n",
        "def location(url_location, session_cookie):\n",
        "    headers = {\n",
        "        'Accept': 'application/json',\n",
        "        'Content-Type': 'application/json',\n",
        "        'Authorization': f'Bearer {session_cookie}'\n",
        "    }\n",
        "    try:\n",
        "        response = requests.get(url_location, headers=headers)\n",
        "        response.raise_for_status()\n",
        "        data = response.json()\n",
        "        halo_links_info = data\n",
        "        print(halo_links_info)\n",
        "    except requests.exceptions.HTTPError as http_err:\n",
        "        print(f\"HTTP error occurred: {http_err}\")\n",
        "    except requests.exceptions.RequestException as req_err:\n",
        "        print(f\"Request error occurred: {req_err}\")\n",
        "    except Exception as err:\n",
        "        print(f\"Error occurred: {err}\")\n",
        "\n",
        "try:\n",
        "    location_response = location(url_links, session_cookie)\n",
        "except Exception as e:\n",
        "    print(\"Error:\", e)\n",
        "#https://docs.elsight-cloud.com/cloud/master/config/models/halo_device_data_links_info.html#v1-config-model-halo-device-data-links-info"
      ],
      "metadata": {
        "id": "hyHbJaQ5qyzC",
        "colab": {
          "base_uri": "https://localhost:8080/"
        },
        "outputId": "69fb8d4e-76b4-401e-e178-5165eebc63f7"
      },
      "execution_count": 34,
      "outputs": [
        {
          "output_type": "stream",
          "name": "stdout",
          "text": [
            "location access https://api.elsight-cloud.com/api/v1/config/667a5f123c0ba131b4299e2a/devices/data_links_info?devices[]=667a5fec42471f6f60aa879e\n",
            "session_cookie 3b47251b-a8f2-4352-950c-05f7b2c8447b\n",
            "{'halo_data_links_info': [{'time_info': {'type': 1, 'time': 1722975133575}, 'nics_info': {'wifi': [{'nic_id': 'wlan0', 'is_built_in': True, 'port_number': 1, 'data_links_status': [], 'ssid': '', 'signal': -71.0, 'non_data_links': ['20.0.2.2'], 'status': 1, 'state': 1, 'alias': 'OldsCollegeWiFi'}], 'cellular': [{'nic_id': 'ttyUSB19', 'is_built_in': True, 'port_number': 1, 'data_links_status': [], 'name': None, 'network_type': -1, 'rssi': 0, 'iccid': 'N/A', 'eid': None, 'imsi': 'N/A', 'imei': '359918921146098', 'status': 5, 'alias': 'SIM 1'}, {'nic_id': 'ttyUSB6', 'is_built_in': True, 'port_number': 2, 'data_links_status': [{'ip': '192.168.225.5'}], 'name': 'Telus Mobility', 'network_type': 7, 'rssi': -79, 'net_stats': {'download': {'min': 7.0, 'max': 36.0, 'avg': 17.666666666666668}, 'upload': {'min': 6.0, 'max': 17.0, 'avg': 10.466666666666667}}, 'iccid': '8912230102191586159', 'eid': None, 'imsi': '302220321858615', 'imei': '353338974174770', 'status': 8, 'activity': 1, 'signal_to_noise': -13.0, 'alias': 'SIM 2'}, {'nic_id': 'ttyUSB14', 'is_built_in': True, 'port_number': 3, 'data_links_status': [], 'name': None, 'network_type': -1, 'rssi': 0, 'iccid': 'N/A', 'eid': None, 'imsi': 'N/A', 'imei': '359918921143574', 'status': 5, 'alias': 'SIM 3'}, {'nic_id': 'ttyUSB9', 'is_built_in': True, 'port_number': 4, 'data_links_status': [], 'name': None, 'network_type': -1, 'rssi': 0, 'iccid': 'N/A', 'eid': None, 'imsi': 'N/A', 'imei': '353338974181940', 'status': 5, 'alias': 'SIM 4'}], 'eth': [{'nic_id': 'eth0', 'is_built_in': True, 'port_number': 1, 'data_links_status': [], 'is_cable_plugged': False, 'non_data_links': ['20.0.0.2'], 'status': 4, 'used_for_data': False, 'alias': 'Eth 1'}, {'nic_id': 'eth1', 'is_built_in': True, 'port_number': 2, 'data_links_status': [], 'is_cable_plugged': False, 'net_stats': {'download': {'min': 0.0, 'max': 0.0, 'avg': 0.0}, 'upload': {'min': 0.0, 'max': 0.0, 'avg': 0.0}}, 'non_data_links': ['20.0.1.2'], 'status': 4, 'activity': 0, 'used_for_data': True, 'alias': 'Eth 2'}], 'vlan': [], 'vpn': [{'nic_id': 'tun0', 'link': '10.25.110.10'}]}, 'satcom_modems_info': [], 'device_id': '667a5fec42471f6f60aa879e', 'id': '66b2839ea02c85eba2aab658'}]}\n"
          ]
        }
      ]
    }
  ]
}