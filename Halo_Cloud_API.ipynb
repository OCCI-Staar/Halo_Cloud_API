{
  "nbformat": 4,
  "nbformat_minor": 0,
  "metadata": {
    "colab": {
      "provenance": [],
      "authorship_tag": "ABX9TyNHDaAE80N9J98TpgeU3ZKt",
      "include_colab_link": true
    },
    "kernelspec": {
      "name": "python3",
      "display_name": "Python 3"
    },
    "language_info": {
      "name": "python"
    }
  },
  "cells": [
    {
      "cell_type": "markdown",
      "metadata": {
        "id": "view-in-github",
        "colab_type": "text"
      },
      "source": [
        "<a href=\"https://colab.research.google.com/github/OCCI-Staar/Halo_Cloud_API/blob/main/Halo_Cloud_API.ipynb\" target=\"_parent\"><img src=\"https://colab.research.google.com/assets/colab-badge.svg\" alt=\"Open In Colab\"/></a>"
      ]
    },
    {
      "cell_type": "markdown",
      "source": [
        "# Imports"
      ],
      "metadata": {
        "id": "Hy0--jQfe1J9"
      }
    },
    {
      "cell_type": "code",
      "source": [
        "import json\n",
        "import requests"
      ],
      "metadata": {
        "id": "kDRURVh-e24v"
      },
      "execution_count": null,
      "outputs": []
    },
    {
      "cell_type": "markdown",
      "source": [
        "# Static Variables"
      ],
      "metadata": {
        "id": "RALL_kKCemkF"
      }
    },
    {
      "cell_type": "code",
      "source": [
        "username = 'admin'\n",
        "password = 'qc3#:2Vi64QU'\n",
        "environment_name = 'Olds College Canada'\n",
        "ip = '10.25.110.10'\n",
        "\n",
        "# API Routes\n",
        "base_url = 'https://api.elsight-cloud.com/api/v1'\n",
        "login_endpoint = '/auth/login'\n",
        "config = '/config/667a5f123c0ba131b4299e2a/devices'\n",
        "data_links = '/data_links_info?devices[]=667a5fec42471f6f60aa879e'\n",
        "\n",
        "# Elsight Cloud API - From Url List\n",
        "\n",
        "#https://docs.elsight-cloud.com/cloud/master/"
      ],
      "metadata": {
        "id": "7fCJ5S7IepK0"
      },
      "execution_count": null,
      "outputs": []
    },
    {
      "cell_type": "markdown",
      "source": [
        "# Login Cloud"
      ],
      "metadata": {
        "id": "ETvRdwSyfBDL"
      }
    },
    {
      "cell_type": "code",
      "source": [
        "# Define your login endpoint\n",
        "url_login = base_url + login_endpoint\n",
        "print('login access', url_login)\n",
        "\n",
        "def login(username, password, environment_name, url_login):\n",
        "    headers = {\n",
        "        'Accept': 'application/json',\n",
        "        'Content-Type': 'application/json'\n",
        "    }\n",
        "    payload = {\n",
        "        'environment_name': environment_name,\n",
        "        'username': username,\n",
        "        'password': password\n",
        "    }\n",
        "\n",
        "    try:\n",
        "        response = requests.post(url_login, headers=headers, data=json.dumps(payload))\n",
        "        # Get session token or any other necessary data from response\n",
        "        data = response.json()\n",
        "        print(\"Login response data:\", data)\n",
        "\n",
        "        session_cookie = data['token']['access_token']\n",
        "        #device_needed = data['devices'][1]\n",
        "        #environment_name = data['devices']['environment_id']\n",
        "        print(\"session_cookie\", session_cookie)\n",
        "        return session_cookie\n",
        "\n",
        "    except requests.exceptions.HTTPError as http_err:\n",
        "        print(f\"HTTP error occurred: {http_err}\")\n",
        "    except requests.exceptions.RequestException as req_err:\n",
        "        print(f\"Request error occurred: {req_err}\")\n",
        "    except Exception as err:\n",
        "        print(f\"Error occurred: {err}\")\n",
        "\n",
        "try:\n",
        "    session_cookie = login(username, password, environment_name, url_login)\n",
        "except Exception as e:\n",
        "    print(\"Error:\", e)\n"
      ],
      "metadata": {
        "id": "stzXA6mAfDpi"
      },
      "execution_count": null,
      "outputs": []
    },
    {
      "cell_type": "markdown",
      "source": [
        "# Devices"
      ],
      "metadata": {
        "id": "vYQ8c7Pcrz-Y"
      }
    },
    {
      "cell_type": "code",
      "source": [
        "system_info_url = base_url + config\n",
        "print('system status access', system_info_url)\n",
        "print('cookie', session_cookie)\n",
        "\n",
        "def system(system_info_url, session_cookie):\n",
        "    headers = {\n",
        "        'Accept': 'application/json',\n",
        "        'Content-Type': 'application/json',\n",
        "        'Authorization': f'Bearer {session_cookie}'\n",
        "        }\n",
        "    try:\n",
        "        response = requests.get(system_info_url, headers=headers)\n",
        "        response.raise_for_status()\n",
        "        data = response.json()\n",
        "        print ('data', data)\n",
        "        location_data = data.get('system_status', None)\n",
        "        all_data = data.get('halo_data_links_info', None)\n",
        "        print(all_data)\n",
        "\n",
        "    except requests.exceptions.HTTPError as http_err:\n",
        "        print(f\"HTTP error occurred: {http_err}\")\n",
        "    except requests.exceptions.RequestException as req_err:\n",
        "        print(f\"Request error occurred: {req_err}\")\n",
        "    except Exception as err:\n",
        "        print(f\"Error occurred: {err}\")\n",
        "\n",
        "try:\n",
        "    system_status_response = system(system_info_url, session_cookie)\n",
        "except Exception as e:\n",
        "    print(\"Error:\", e)"
      ],
      "metadata": {
        "colab": {
          "base_uri": "https://localhost:8080/"
        },
        "id": "ygSpuM72r2XI",
        "outputId": "2bcd69f0-5849-4284-96d9-a529483a677a"
      },
      "execution_count": null,
      "outputs": [
        {
          "output_type": "stream",
          "name": "stdout",
          "text": [
            "system status access https://api.elsight-cloud.com/api/v1/config/667a5f123c0ba131b4299e2a/devices\n",
            "cookie 7eb3ee3c-9cd8-44d1-84e2-aba5634949b8\n",
            "data {'devices': [{'environment_id': '667a5f123c0ba131b4299e2a', 'groups': [], 'name': 'Halo server', 'pairing_id': 'Olds_College_Canada', 'type': 1, 'ip_addresses': ['99.79.102.202'], 'ports': {'from': 23601, 'to': 24800}, 'is_enabled': True, 'is_server': True, 'latest_reports': {}, 'id': '667a5fbc74ab2e86af0a9a05', 'application_rules': ['667a6210e52e1df87e202785'], 'is_activated': True}, {'environment_id': '667a5f123c0ba131b4299e2a', 'groups': [], 'name': 'Halo 2 LTE 2 5G', 'pairing_id': '47200014', 'type': 1, 'ip_addresses': [], 'is_enabled': True, 'is_server': False, 'latest_reports': {}, 'id': '667a5fec42471f6f60aa879e', 'application_rules': ['667a6210e52e1df87e202785'], 'is_activated': True}]}\n",
            "None\n"
          ]
        }
      ]
    },
    {
      "cell_type": "markdown",
      "source": [
        "# Location"
      ],
      "metadata": {
        "id": "0v1jhpCtqt4r"
      }
    },
    {
      "cell_type": "code",
      "source": [
        "# Define your login endpoint\n",
        "url_location = base_url + config\n",
        "print('location access', url_location)\n",
        "session_cookie = session_cookie\n",
        "print('cookie', session_cookie)\n",
        "\n",
        "def location(url_location, session_cookie):\n",
        "    headers = {\n",
        "        'Accept': 'application/json',\n",
        "        'Content-Type': 'application/json',\n",
        "        'Cookie': f'session={session_cookie}'\n",
        "    }\n",
        "    try:\n",
        "        response = requests.get(url_location, headers=headers)\n",
        "        response.raise_for_status()\n",
        "        data = response.json()\n",
        "        location_data = data.get('location_data', None)\n",
        "\n",
        "        if location_data:\n",
        "            print(\"Location Data:\")\n",
        "            print(f\"  Fix Status: {location_data.get('fix_status', 'N/A')}\")\n",
        "            print(f\"  Coordinate: {location_data.get('coordinate', 'N/A')}\")\n",
        "            print(f\"  Altitude: {location_data.get('altitude', 'N/A')}\")\n",
        "            print(f\"  Number of Satellites: {location_data.get('num_of_satellites', 'N/A')}\")\n",
        "            print(f\"  Velocity: {location_data.get('velocity', 'N/A')}\")\n",
        "            print(f\"  Horizontal Speed: {location_data.get('horizontal_speed', 'N/A')}\")\n",
        "            print(f\"  Vertical Speed: {location_data.get('vertical_speed', 'N/A')}\")\n",
        "            print(f\"  Direction: {location_data.get('direction', 'N/A')}\")\n",
        "            print(f\"  Time: {location_data.get('time', 'N/A')}\")\n",
        "        else:\n",
        "            print(\"No location data found.\")\n",
        "    except requests.exceptions.HTTPError as http_err:\n",
        "        print(f\"HTTP error occurred: {http_err}\")\n",
        "    except requests.exceptions.RequestException as req_err:\n",
        "        print(f\"Request error occurred: {req_err}\")\n",
        "    except Exception as err:\n",
        "        print(f\"Error occurred: {err}\")\n",
        "\n",
        "try:\n",
        "    location_response = location(url_location, session_cookie)\n",
        "except Exception as e:\n",
        "    print(\"Error:\", e)\n"
      ],
      "metadata": {
        "id": "hyHbJaQ5qyzC",
        "colab": {
          "base_uri": "https://localhost:8080/"
        },
        "outputId": "42d14224-6dbd-44e3-da7a-db98f51ff2fd"
      },
      "execution_count": null,
      "outputs": [
        {
          "output_type": "stream",
          "name": "stdout",
          "text": [
            "location access https://api.elsight-cloud.com/api/v1/config/667a5f123c0ba131b4299e2a/devices\n",
            "cookie 7eb3ee3c-9cd8-44d1-84e2-aba5634949b8\n",
            "HTTP error occurred: 401 Client Error: UNAUTHORIZED for url: https://api.elsight-cloud.com/api/v1/config/667a5f123c0ba131b4299e2a/devices\n"
          ]
        }
      ]
    }
  ]
}